{
 "cells": [
  {
   "cell_type": "code",
   "execution_count": 1,
   "metadata": {
    "collapsed": false
   },
   "outputs": [
    {
     "name": "stdout",
     "output_type": "stream",
     "text": [
      "           x1          x2         x3          x4         x5            x6  y\n0   12.982138   90.556667  16.946667  -66.541695  10.232872   2192.333333  3\n1   54.544652    0.000000   2.660000  -74.029510  18.146518    741.530000  3\n2   15.907847  166.073333   9.040000   -3.720063  15.197397  12584.613330  3\n3   25.853026   30.353333   8.433333  -41.477099  26.730214   7040.696667  2\n4  140.028782    0.000000   0.596667 -880.358097 -68.485940    202.000000  4\n"
     ]
    }
   ],
   "source": [
    "import pandas as pd  # this is the standard alias\n",
    "\n",
    "# 引入数据\n",
    "data = pd.read_csv(r\"D:\\py_projects\\ML\\ML_Demo\\financial\\financial_train.csv\", encoding='utf-8')\n",
    "\n",
    "print(data.head(5))"
   ]
  },
  {
   "cell_type": "code",
   "execution_count": 80,
   "metadata": {},
   "outputs": [
    {
     "name": "stdout",
     "output_type": "stream",
     "text": [
      "准确率： 1.0\n"
     ]
    }
   ],
   "source": [
    "from sklearn.tree import DecisionTreeClassifier as DTC, export_graphviz\n",
    "# loading data\n",
    "X = data.iloc[:, 0:6] \n",
    "# label\n",
    "y = data.iloc[:, 6]\n",
    "dtc = DTC(criterion='entropy')  # 基于信息熵\n",
    "dtc.fit(X, y)\n",
    "print('准确率：', dtc.score(X, y))\n",
    "with open(r\"D:\\py_projects\\ML\\ML_Demo\\financial\\tree.dot\", 'w') as f:\n",
    "    f = export_graphviz(dtc, feature_names=X.columns, out_file=f)"
   ]
  },
  {
   "cell_type": "code",
   "execution_count": 32,
   "metadata": {},
   "outputs": [
    {
     "name": "stdout",
     "output_type": "stream",
     "text": [
      "4 4 ✓\n3 3 ✓\n3 3 ✓\n3 3 ✓\n3 3 ✓\n3 3 ✓\n4 4 ✓\n3 3 ✓\n3 3 ✓\n3 3 ✓\n"
     ]
    }
   ],
   "source": [
    "import random\n",
    "for _ in range(10):\n",
    "    i = random.randint(0, len(data))\n",
    "    pred = dtc.predict(X)[i]\n",
    "    sign = '✗' if y[i] != pred else '✓'\n",
    "    print(y[i], pred, sign)\n",
    "\n"
   ]
  }
 ],
 "metadata": {
  "kernelspec": {
   "display_name": "Python 2",
   "language": "python",
   "name": "python2"
  },
  "language_info": {
   "codemirror_mode": {
    "name": "ipython",
    "version": 2
   },
   "file_extension": ".py",
   "mimetype": "text/x-python",
   "name": "python",
   "nbconvert_exporter": "python",
   "pygments_lexer": "ipython2",
   "version": "2.7.6"
  }
 },
 "nbformat": 4,
 "nbformat_minor": 0
}
