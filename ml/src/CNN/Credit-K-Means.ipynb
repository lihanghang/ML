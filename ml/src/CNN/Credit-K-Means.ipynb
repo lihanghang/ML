{
 "cells": [
  {
   "cell_type": "code",
   "execution_count": 296,
   "metadata": {
    "scrolled": false
   },
   "outputs": [
    {
     "name": "stdout",
     "output_type": "stream",
     "text": [
      "聚类前各等级分类\n",
      " 3    245\n",
      "2    128\n",
      "4     92\n",
      "1     34\n",
      "Name: Grade, dtype: int64\n",
      "测试分类值： [2 2 2 2 2 2 2 2 2 3 2 2 2 2 2 2 2 2 2 2 2 2 2 2 2 2 2]\n",
      "测试实际值： [1 3 1 1 2 4 4 1 1 3 4 3 3 3 2 2 3 1 2 1 2 3 2 2 3 2 3]\n",
      "-0.011850096282\n",
      "聚类后各等级分类\n",
      " Grade   1    2    3   4\n",
      "row_0                  \n",
      "1       0    0    6   9\n",
      "2      33  119  215  65\n",
      "3       1    7   15   7\n",
      "4       0    1    4   4\n",
      "5       0    1    5   7\n",
      "Train accuracy: 0.277\n",
      "Test accuracy: 0.333\n"
     ]
    }
   ],
   "source": [
    "import pandas as pd\n",
    "import matplotlib.pyplot as plt\n",
    "import numpy as np\n",
    "from sklearn.cluster import AgglomerativeClustering\n",
    "from sklearn import metrics \n",
    "from sklearn.metrics import accuracy_score\n",
    "\n",
    "# 降维、选择6个指标、房地产前五年数据整理\n",
    "\n",
    "#加载数据\n",
    "credit = pd.read_csv(\"./CNN/dataSets/credit_Grade_train_data.csv\")\n",
    "#取2015年作为训练数据\n",
    "#credit = credit[credit['label1'] == 2015]\n",
    "\n",
    "from sklearn.model_selection import train_test_split\n",
    "\n",
    "train_data = credit.iloc[:,2:]\n",
    "train_target = credit.iloc[:,1:2]\n",
    "# 将数据集拆分为训练集和测试集 \n",
    "train, test, y_train, y_test = train_test_split(train_data, train_target, test_size=0.05, random_state=123)\n",
    "\n",
    "# 统计各个等级的数量\n",
    "grade = y_train['Grade'].value_counts()\n",
    "print(\"聚类前各等级分类\\n\", grade)\n",
    "\n",
    "#计算各个公司之间的距离\n",
    "from sklearn.metrics.pairwise import euclidean_distances\n",
    "from sklearn.cluster import KMeans\n",
    "\n",
    "# n_clusters参数指定分组数量,默认k-means++\n",
    "kmeans_model = KMeans(n_clusters=5,init='k-means++', n_init=1000, random_state=123)\n",
    "#归一化\n",
    "train = preprocessing.normalize(train, norm='l2')\n",
    "\n",
    "# 通过fit_transform()方法来训练模型\n",
    "model = kmeans_model.fit(train)\n",
    "labels = model.labels_\n",
    "for i in range(len(labels)):\n",
    "    labels[i] = labels[i]+1\n",
    "# 模型评分\n",
    "# 评分很高时，簇的密度越高，划分越好，这也关系到一个聚类的标准性\n",
    "#print(\"模型评分：\", metrics.calinski_harabaz_score(train, labels))\n",
    "\n",
    "# 预测\n",
    "test = preprocessing.normalize(test, norm='l2')\n",
    "y_pred = model.predict(test)\n",
    "for i in range(len(y_pred)):\n",
    "    y_pred[i] = y_pred[i]+1\n",
    "print(\"测试分类值：\", y_pred)\n",
    "y_test = y_test[\"Grade\"]\n",
    "print(\"测试实际值：\",np.array(y_test) )\n",
    "# 用ARI来评价K-Means聚类的性能\n",
    "# 取值在［－1，1］之间，负数代表结果不好，越接近于1越好；\n",
    "print(metrics.adjusted_rand_score(y_test, y_pred))\n",
    "\n",
    "y_train = y_train['Grade']\n",
    "# 每一个分组分布多少个来自不同分组的公司\n",
    "print(\"聚类后各等级分类\\n\", pd.crosstab(labels, y_train))\n",
    "\n",
    "model_ac = accuracy_score(y_train, labels)\n",
    "print('Train accuracy: %.3f' % model_ac)\n",
    "ac = accuracy_score(y_test, y_pred)\n",
    "print('Test accuracy: %.3f' %  ac)"
   ]
  },
  {
   "cell_type": "code",
   "execution_count": null,
   "metadata": {},
   "outputs": [],
   "source": []
  }
 ],
 "metadata": {
  "kernelspec": {
   "display_name": "Python (TensorFlow)",
   "language": "python",
   "name": "tensorflow"
  },
  "language_info": {
   "codemirror_mode": {
    "name": "ipython",
    "version": 3
   },
   "file_extension": ".py",
   "mimetype": "text/x-python",
   "name": "python",
   "nbconvert_exporter": "python",
   "pygments_lexer": "ipython3",
   "version": "3.5.4"
  }
 },
 "nbformat": 4,
 "nbformat_minor": 2
}
