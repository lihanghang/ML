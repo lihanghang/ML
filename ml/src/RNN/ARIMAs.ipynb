{
 "cells": [
  {
   "cell_type": "code",
   "execution_count": null,
   "metadata": {},
   "outputs": [],
   "source": [
    "# ARIMA时序模型\n",
    "\n",
    "import pandas as pd\n",
    "import matplotlib.pyplot as plt\n",
    "import numpy as np\n",
    "\n",
    "\n",
    "# 加载数据\n",
    "path = \"./dataSets/train-test.csv\"\n",
    "dataset = pd.read_csv(path,index_col='forecasting',usecols=[0,1])\n",
    "\n",
    "# split into train and test sets; 80% 是训练数据，其余是测试数据\n",
    "train_size = int(len(dataset) * 1)\n",
    "test_size = len(dataset) - train_size\n",
    "train, test = dataset[0:train_size], dataset[train_size:len(dataset)]\n",
    "train.index = pd.to_datetime(train.index)  # 将字符串索引转换成时间索引\n",
    "test.index = pd.to_datetime(test.index)\n",
    "val = test['lead']\n",
    "ts = train['lead']  # 生成pd.Series对象\n",
    "\n",
    "# ts.head()\n",
    "# ts.head().index\n",
    "ts.plot()\n",
    "plt.title(\"Lead Index\")\n",
    "plt.show()"
   ]
  },
  {
   "cell_type": "code",
   "execution_count": 7,
   "metadata": {},
   "outputs": [
    {
     "name": "stderr",
     "output_type": "stream",
     "text": [
      "/home/lihanghang/anaconda3/envs/TensorFlow/lib/python3.5/site-packages/statsmodels/compat/pandas.py:56: FutureWarning: The pandas.core.datetools module is deprecated and will be removed in a future version. Please use the pandas.tseries module instead.\n",
      "  from pandas.core import datetools\n",
      "/home/lihanghang/anaconda3/envs/TensorFlow/lib/python3.5/site-packages/matplotlib/figure.py:403: UserWarning: matplotlib is currently using a non-GUI backend, so cannot show the figure\n",
      "  \"matplotlib is currently using a non-GUI backend, \"\n"
     ]
    },
    {
     "data": {
      "image/png": "[encoded data removed]",
      "text/plain": [
       "<matplotlib.figure.Figure at 0x7f85abe2c4e0>"
      ]
     },
     "metadata": {},
     "output_type": "display_data"
    }
   ],
   "source": [
    "# 自相关图\n",
    "from statsmodels.graphics.tsaplots import plot_acf\n",
    "plot_acf(ts).show()"
   ]
  },
  {
   "cell_type": "code",
   "execution_count": null,
   "metadata": {},
   "outputs": [],
   "source": [
    "# 平稳性检测\n",
    "from statsmodels.tsa.stattools import adfuller as ADF\n",
    "\n",
    "#返回值依次为：adf, pvalue p值,usedlag, nobs, critical values临界值\n",
    "print(u'原始序列的ADF检验结果为：', ADF(ts))"
   ]
  },
  {
   "cell_type": "code",
   "execution_count": null,
   "metadata": {},
   "outputs": [],
   "source": [
    "# 时间序列的差分平移\n",
    "data = ts.diff(1).dropna()\n",
    "\n",
    "# 差分过后自相关图\n",
    "plot_acf(data).show()"
   ]
  },
  {
   "cell_type": "code",
   "execution_count": null,
   "metadata": {},
   "outputs": [],
   "source": [
    "from statsmodels.tsa.arima_model import ARIMA # 定阶\n",
    "\n",
    "pmax =int(len(data)/10)\n",
    "qmax =int(len(data)/10)\n",
    "\n",
    "bic_matrix = []\n",
    "for p in range(pmax+1):\n",
    "    tmp = []\n",
    "    for q in range(qmax+1):\n",
    "        try:\n",
    "            tmp.append(ARIMA(ts, (p,1,q)).fit().bic)\n",
    "        except:\n",
    "          tmp.append(None)\n",
    "        bic_matrix.append(tmp)\n",
    "        \n",
    "#从中可以找出最小值\n",
    "bic_matrix = pd.DataFrame(bic_matrix) # 先用stack展平，然后用idxmin找出最小值位置。\n",
    "\n",
    "p,q = bic_matrix.stack().idxmin()\n",
    "\n",
    "print(u'BIC最小的p值和q值为：%s、%s'%(p,q))"
   ]
  },
  {
   "cell_type": "code",
   "execution_count": null,
   "metadata": {},
   "outputs": [],
   "source": [
    "# 建立ARIMA(0, 1, 1)模型\n",
    "\n",
    "model = ARIMA(ts, (p,1,q)).fit()\n",
    "\n",
    "# predict_dta = model.predict(\"2014\",\"2017\",dynamic=True)\n",
    "# print(predict_dta)\n",
    "\n",
    "\n",
    "# fig, ax = plt.subplots(figsize=(12, 8))\n",
    "# ax = ts.ix['2000':].plot(ax=ax)\n",
    "# fig = model.plot_predict('2014', '2017', dynamic=True, ax=ax, plot_insample=False)\n",
    "# plt.show()\n",
    "#作为期10-2015--2017天的预测，返回预测结果、标准误差、置信区间。\n",
    "pred = model.forecast(7)\n",
    "train_predict = pred[0] #还原\n",
    "print(train_predict)\n",
    "#train_predict\n",
    "# print(test)\n",
    "# val.plot()\n",
    "# plt.plot(figsize=(12,8))\n",
    "# plt.show()"
   ]
  },
  {
   "cell_type": "code",
   "execution_count": null,
   "metadata": {},
   "outputs": [],
   "source": []
  },
  {
   "cell_type": "code",
   "execution_count": null,
   "metadata": {},
   "outputs": [],
   "source": []
  }
 ],
 "metadata": {
  "kernelspec": {
   "display_name": "Python (TensorFlow)",
   "language": "python",
   "name": "tensorflow"
  },
  "language_info": {
   "codemirror_mode": {
    "name": "ipython",
    "version": 3
   },
   "file_extension": ".py",
   "mimetype": "text/x-python",
   "name": "python",
   "nbconvert_exporter": "python",
   "pygments_lexer": "ipython3",
   "version": "3.5.4"
  }
 },
 "nbformat": 4,
 "nbformat_minor": 2
}
